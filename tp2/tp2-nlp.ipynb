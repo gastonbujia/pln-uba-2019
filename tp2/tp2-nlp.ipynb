{
 "cells": [
  {
   "cell_type": "markdown",
   "metadata": {},
   "source": [
    "## Importamos y exploramos los datos"
   ]
  },
  {
   "cell_type": "code",
   "execution_count": 1,
   "metadata": {
    "colab": {},
    "colab_type": "code",
    "id": "A8WUUPZ6yg_-"
   },
   "outputs": [],
   "source": [
    "!cd review_polarity_competition/"
   ]
  },
  {
   "cell_type": "code",
   "execution_count": 2,
   "metadata": {
    "colab": {
     "base_uri": "https://localhost:8080/",
     "height": 1000
    },
    "colab_type": "code",
    "executionInfo": {
     "elapsed": 2700,
     "status": "ok",
     "timestamp": 1568733600374,
     "user": {
      "displayName": "Gaston Bujia",
      "photoUrl": "https://lh3.googleusercontent.com/a-/AAuE7mA8qanA7efVWooa0WiarWsfbZ7tHoiI2N4x0L08kQ=s64",
      "userId": "15901710506675448257"
     },
     "user_tz": 180
    },
    "id": "pqnQsTZJyfCg",
    "outputId": "6120b0ae-9341-4b61-a605-12d5d1ac8fdd"
   },
   "outputs": [
    {
     "name": "stdout",
     "output_type": "stream",
     "text": [
      "1000.txt  532.txt  599.txt  666.txt  733.txt  800.txt  867.txt\t934.txt\n",
      "1001.txt  533.txt  600.txt  667.txt  734.txt  801.txt  868.txt\t935.txt\n",
      "1002.txt  534.txt  601.txt  668.txt  735.txt  802.txt  869.txt\t936.txt\n",
      "1003.txt  535.txt  602.txt  669.txt  736.txt  803.txt  870.txt\t937.txt\n",
      "1004.txt  536.txt  603.txt  670.txt  737.txt  804.txt  871.txt\t938.txt\n",
      "1005.txt  537.txt  604.txt  671.txt  738.txt  805.txt  872.txt\t939.txt\n",
      "1006.txt  538.txt  605.txt  672.txt  739.txt  806.txt  873.txt\t940.txt\n",
      "1007.txt  539.txt  606.txt  673.txt  740.txt  807.txt  874.txt\t941.txt\n",
      "1008.txt  540.txt  607.txt  674.txt  741.txt  808.txt  875.txt\t942.txt\n",
      "1009.txt  541.txt  608.txt  675.txt  742.txt  809.txt  876.txt\t943.txt\n",
      "1010.txt  542.txt  609.txt  676.txt  743.txt  810.txt  877.txt\t944.txt\n",
      "1011.txt  543.txt  610.txt  677.txt  744.txt  811.txt  878.txt\t945.txt\n",
      "1012.txt  544.txt  611.txt  678.txt  745.txt  812.txt  879.txt\t946.txt\n",
      "1013.txt  545.txt  612.txt  679.txt  746.txt  813.txt  880.txt\t947.txt\n",
      "1014.txt  546.txt  613.txt  680.txt  747.txt  814.txt  881.txt\t948.txt\n",
      "1015.txt  547.txt  614.txt  681.txt  748.txt  815.txt  882.txt\t949.txt\n",
      "1016.txt  548.txt  615.txt  682.txt  749.txt  816.txt  883.txt\t950.txt\n",
      "1017.txt  549.txt  616.txt  683.txt  750.txt  817.txt  884.txt\t951.txt\n",
      "1018.txt  550.txt  617.txt  684.txt  751.txt  818.txt  885.txt\t952.txt\n",
      "1019.txt  551.txt  618.txt  685.txt  752.txt  819.txt  886.txt\t953.txt\n",
      "1020.txt  552.txt  619.txt  686.txt  753.txt  820.txt  887.txt\t954.txt\n",
      "1021.txt  553.txt  620.txt  687.txt  754.txt  821.txt  888.txt\t955.txt\n",
      "1022.txt  554.txt  621.txt  688.txt  755.txt  822.txt  889.txt\t956.txt\n",
      "1023.txt  555.txt  622.txt  689.txt  756.txt  823.txt  890.txt\t957.txt\n",
      "1024.txt  556.txt  623.txt  690.txt  757.txt  824.txt  891.txt\t958.txt\n",
      "1025.txt  557.txt  624.txt  691.txt  758.txt  825.txt  892.txt\t959.txt\n",
      "1026.txt  558.txt  625.txt  692.txt  759.txt  826.txt  893.txt\t960.txt\n",
      "1027.txt  559.txt  626.txt  693.txt  760.txt  827.txt  894.txt\t961.txt\n",
      "1028.txt  560.txt  627.txt  694.txt  761.txt  828.txt  895.txt\t962.txt\n",
      "1029.txt  561.txt  628.txt  695.txt  762.txt  829.txt  896.txt\t963.txt\n",
      "1030.txt  562.txt  629.txt  696.txt  763.txt  830.txt  897.txt\t964.txt\n",
      "1031.txt  563.txt  630.txt  697.txt  764.txt  831.txt  898.txt\t965.txt\n",
      "1032.txt  564.txt  631.txt  698.txt  765.txt  832.txt  899.txt\t966.txt\n",
      "1033.txt  565.txt  632.txt  699.txt  766.txt  833.txt  900.txt\t967.txt\n",
      "1034.txt  566.txt  633.txt  700.txt  767.txt  834.txt  901.txt\t968.txt\n",
      "500.txt   567.txt  634.txt  701.txt  768.txt  835.txt  902.txt\t969.txt\n",
      "501.txt   568.txt  635.txt  702.txt  769.txt  836.txt  903.txt\t970.txt\n",
      "502.txt   569.txt  636.txt  703.txt  770.txt  837.txt  904.txt\t971.txt\n",
      "503.txt   570.txt  637.txt  704.txt  771.txt  838.txt  905.txt\t972.txt\n",
      "504.txt   571.txt  638.txt  705.txt  772.txt  839.txt  906.txt\t973.txt\n",
      "505.txt   572.txt  639.txt  706.txt  773.txt  840.txt  907.txt\t974.txt\n",
      "506.txt   573.txt  640.txt  707.txt  774.txt  841.txt  908.txt\t975.txt\n",
      "507.txt   574.txt  641.txt  708.txt  775.txt  842.txt  909.txt\t976.txt\n",
      "508.txt   575.txt  642.txt  709.txt  776.txt  843.txt  910.txt\t977.txt\n",
      "509.txt   576.txt  643.txt  710.txt  777.txt  844.txt  911.txt\t978.txt\n",
      "510.txt   577.txt  644.txt  711.txt  778.txt  845.txt  912.txt\t979.txt\n",
      "511.txt   578.txt  645.txt  712.txt  779.txt  846.txt  913.txt\t980.txt\n",
      "512.txt   579.txt  646.txt  713.txt  780.txt  847.txt  914.txt\t981.txt\n",
      "513.txt   580.txt  647.txt  714.txt  781.txt  848.txt  915.txt\t982.txt\n",
      "514.txt   581.txt  648.txt  715.txt  782.txt  849.txt  916.txt\t983.txt\n",
      "515.txt   582.txt  649.txt  716.txt  783.txt  850.txt  917.txt\t984.txt\n",
      "516.txt   583.txt  650.txt  717.txt  784.txt  851.txt  918.txt\t985.txt\n",
      "517.txt   584.txt  651.txt  718.txt  785.txt  852.txt  919.txt\t986.txt\n",
      "518.txt   585.txt  652.txt  719.txt  786.txt  853.txt  920.txt\t987.txt\n",
      "519.txt   586.txt  653.txt  720.txt  787.txt  854.txt  921.txt\t988.txt\n",
      "520.txt   587.txt  654.txt  721.txt  788.txt  855.txt  922.txt\t989.txt\n",
      "521.txt   588.txt  655.txt  722.txt  789.txt  856.txt  923.txt\t990.txt\n",
      "522.txt   589.txt  656.txt  723.txt  790.txt  857.txt  924.txt\t991.txt\n",
      "523.txt   590.txt  657.txt  724.txt  791.txt  858.txt  925.txt\t992.txt\n",
      "524.txt   591.txt  658.txt  725.txt  792.txt  859.txt  926.txt\t993.txt\n",
      "525.txt   592.txt  659.txt  726.txt  793.txt  860.txt  927.txt\t994.txt\n",
      "526.txt   593.txt  660.txt  727.txt  794.txt  861.txt  928.txt\t995.txt\n",
      "527.txt   594.txt  661.txt  728.txt  795.txt  862.txt  929.txt\t996.txt\n",
      "528.txt   595.txt  662.txt  729.txt  796.txt  863.txt  930.txt\t997.txt\n",
      "529.txt   596.txt  663.txt  730.txt  797.txt  864.txt  931.txt\t998.txt\n",
      "530.txt   597.txt  664.txt  731.txt  798.txt  865.txt  932.txt\t999.txt\n",
      "531.txt   598.txt  665.txt  732.txt  799.txt  866.txt  933.txt\n"
     ]
    }
   ],
   "source": [
    "!ls review_polarity_competition/reviews_sentoken/neg"
   ]
  },
  {
   "cell_type": "code",
   "execution_count": 3,
   "metadata": {
    "colab": {},
    "colab_type": "code",
    "id": "PfW1gVNuysc5"
   },
   "outputs": [],
   "source": [
    "%load_ext autoreload\n",
    "%autoreload 2"
   ]
  },
  {
   "cell_type": "code",
   "execution_count": 5,
   "metadata": {
    "colab": {},
    "colab_type": "code",
    "id": "rQzNWfSyyyYE"
   },
   "outputs": [],
   "source": [
    "import pandas as pd\n",
    "import numpy as np"
   ]
  },
  {
   "cell_type": "code",
   "execution_count": 4,
   "metadata": {
    "colab": {
     "base_uri": "https://localhost:8080/",
     "height": 54
    },
    "colab_type": "code",
    "executionInfo": {
     "elapsed": 2400,
     "status": "ok",
     "timestamp": 1568733995113,
     "user": {
      "displayName": "Gaston Bujia",
      "photoUrl": "https://lh3.googleusercontent.com/a-/AAuE7mA8qanA7efVWooa0WiarWsfbZ7tHoiI2N4x0L08kQ=s64",
      "userId": "15901710506675448257"
     },
     "user_tz": 180
    },
    "id": "ypKqxfR31N_B",
    "outputId": "f112a083-9181-49be-a1d2-6cd39b0ae909"
   },
   "outputs": [
    {
     "name": "stdout",
     "output_type": "stream",
     "text": [
      "the movie sucks ... just like that . Got to say , photography , customes , and the sets are good , but the story is really lame ... also , the action sequences are crappy ( almos funny ) ... and the end.. uffff ... please ... I just fast forwarded the movie so it would end sooner ... I really , really like the game ... but the movie sucks"
     ]
    }
   ],
   "source": [
    "!cat review_polarity_competition/reviews_sentoken/neg/1010.txt"
   ]
  },
  {
   "cell_type": "code",
   "execution_count": 6,
   "metadata": {
    "colab": {},
    "colab_type": "code",
    "id": "gr12KBEly6fQ"
   },
   "outputs": [],
   "source": [
    "from sklearn.datasets import load_files\n",
    "dataset = load_files('review_polarity_competition/reviews_sentoken/', shuffle=False)"
   ]
  },
  {
   "cell_type": "code",
   "execution_count": 7,
   "metadata": {
    "colab": {
     "base_uri": "https://localhost:8080/",
     "height": 34
    },
    "colab_type": "code",
    "executionInfo": {
     "elapsed": 690,
     "status": "ok",
     "timestamp": 1568734103032,
     "user": {
      "displayName": "Gaston Bujia",
      "photoUrl": "https://lh3.googleusercontent.com/a-/AAuE7mA8qanA7efVWooa0WiarWsfbZ7tHoiI2N4x0L08kQ=s64",
      "userId": "15901710506675448257"
     },
     "user_tz": 180
    },
    "id": "gHuppTLR0x5J",
    "outputId": "a6d20f92-b252-4606-9ca4-8259631b7d5f"
   },
   "outputs": [
    {
     "data": {
      "text/plain": [
       "dict_keys(['data', 'filenames', 'target_names', 'target', 'DESCR'])"
      ]
     },
     "execution_count": 7,
     "metadata": {},
     "output_type": "execute_result"
    }
   ],
   "source": [
    "dataset.keys()"
   ]
  },
  {
   "cell_type": "code",
   "execution_count": 8,
   "metadata": {
    "colab": {
     "base_uri": "https://localhost:8080/",
     "height": 206
    },
    "colab_type": "code",
    "executionInfo": {
     "elapsed": 712,
     "status": "ok",
     "timestamp": 1568734150823,
     "user": {
      "displayName": "Gaston Bujia",
      "photoUrl": "https://lh3.googleusercontent.com/a-/AAuE7mA8qanA7efVWooa0WiarWsfbZ7tHoiI2N4x0L08kQ=s64",
      "userId": "15901710506675448257"
     },
     "user_tz": 180
    },
    "id": "eIof-Zwr10T7",
    "outputId": "c7b4bfac-d259-4bcd-8c9f-27b7b569d79b"
   },
   "outputs": [
    {
     "data": {
      "text/html": [
       "<div>\n",
       "<style scoped>\n",
       "    .dataframe tbody tr th:only-of-type {\n",
       "        vertical-align: middle;\n",
       "    }\n",
       "\n",
       "    .dataframe tbody tr th {\n",
       "        vertical-align: top;\n",
       "    }\n",
       "\n",
       "    .dataframe thead th {\n",
       "        text-align: right;\n",
       "    }\n",
       "</style>\n",
       "<table border=\"1\" class=\"dataframe\">\n",
       "  <thead>\n",
       "    <tr style=\"text-align: right;\">\n",
       "      <th></th>\n",
       "      <th>data</th>\n",
       "      <th>target</th>\n",
       "    </tr>\n",
       "  </thead>\n",
       "  <tbody>\n",
       "    <tr>\n",
       "      <td>0</td>\n",
       "      <td>b\"Nothing new happens in this movie . It has p...</td>\n",
       "      <td>0</td>\n",
       "    </tr>\n",
       "    <tr>\n",
       "      <td>1</td>\n",
       "      <td>b'Agree with the others . Was very excited to ...</td>\n",
       "      <td>0</td>\n",
       "    </tr>\n",
       "    <tr>\n",
       "      <td>2</td>\n",
       "      <td>b\"I am a huge fan of Christmas shows , new and...</td>\n",
       "      <td>0</td>\n",
       "    </tr>\n",
       "    <tr>\n",
       "      <td>3</td>\n",
       "      <td>b\"`` Battlefield Earth '' is rightly considere...</td>\n",
       "      <td>0</td>\n",
       "    </tr>\n",
       "    <tr>\n",
       "      <td>4</td>\n",
       "      <td>b\"I have seen and loved all three of these mov...</td>\n",
       "      <td>0</td>\n",
       "    </tr>\n",
       "  </tbody>\n",
       "</table>\n",
       "</div>"
      ],
      "text/plain": [
       "                                                data  target\n",
       "0  b\"Nothing new happens in this movie . It has p...       0\n",
       "1  b'Agree with the others . Was very excited to ...       0\n",
       "2  b\"I am a huge fan of Christmas shows , new and...       0\n",
       "3  b\"`` Battlefield Earth '' is rightly considere...       0\n",
       "4  b\"I have seen and loved all three of these mov...       0"
      ]
     },
     "execution_count": 8,
     "metadata": {},
     "output_type": "execute_result"
    }
   ],
   "source": [
    "df = pd.DataFrame({\n",
    "    'data': dataset['data'],\n",
    "    'target': dataset['target']\n",
    "})\n",
    "df.head()"
   ]
  },
  {
   "cell_type": "code",
   "execution_count": 9,
   "metadata": {
    "colab": {
     "base_uri": "https://localhost:8080/",
     "height": 34
    },
    "colab_type": "code",
    "executionInfo": {
     "elapsed": 702,
     "status": "ok",
     "timestamp": 1568736078316,
     "user": {
      "displayName": "Gaston Bujia",
      "photoUrl": "https://lh3.googleusercontent.com/a-/AAuE7mA8qanA7efVWooa0WiarWsfbZ7tHoiI2N4x0L08kQ=s64",
      "userId": "15901710506675448257"
     },
     "user_tz": 180
    },
    "id": "1EFo_i3431rP",
    "outputId": "98da54d5-d067-40e2-bee2-9a87d8b84104"
   },
   "outputs": [
    {
     "data": {
      "text/plain": [
       "0.5"
      ]
     },
     "execution_count": 9,
     "metadata": {},
     "output_type": "execute_result"
    }
   ],
   "source": [
    "# Chequeamos que las clases esten balanceadas\n",
    "df.target.mean()"
   ]
  },
  {
   "cell_type": "markdown",
   "metadata": {},
   "source": [
    "## Empezamos con algunos modelos basicos como baselines"
   ]
  },
  {
   "cell_type": "code",
   "execution_count": 12,
   "metadata": {
    "colab": {},
    "colab_type": "code",
    "id": "FoFwGCKy31d5"
   },
   "outputs": [],
   "source": [
    "from sklearn.feature_extraction.text import CountVectorizer\n",
    "from sklearn.feature_extraction.text import TfidfVectorizer\n",
    "\n",
    "vect = CountVectorizer(min_df=5, max_features=100)\n",
    "vect.fit(df.data)\n",
    "X = vect.transform(df.data)\n",
    "vect_TFIDF = TfidfVectorizer(binary=True)\n",
    "vect_TFIDF.fit(df.data)\n",
    "X_TF = vect_TFIDF.transform(df.data)\n",
    "y = df.target"
   ]
  },
  {
   "cell_type": "code",
   "execution_count": 13,
   "metadata": {
    "colab": {},
    "colab_type": "code",
    "id": "dBUPiLPsy6cP"
   },
   "outputs": [],
   "source": [
    "from sklearn.neighbors import KNeighborsClassifier\n",
    "from sklearn.naive_bayes import MultinomialNB\n",
    "from sklearn.tree import DecisionTreeClassifier\n",
    "from sklearn.linear_model import LogisticRegression\n",
    "from sklearn.svm import LinearSVC, SVC\n",
    "from sklearn.ensemble import RandomForestClassifier\n",
    "\n",
    "clfs = [\n",
    "    KNeighborsClassifier(),\n",
    "    MultinomialNB(),\n",
    "    DecisionTreeClassifier(random_state=0),\n",
    "    LogisticRegression(random_state=0),\n",
    "    LinearSVC(random_state=0),\n",
    "    SVC(random_state=0),\n",
    "    RandomForestClassifier(random_state=0),\n",
    "]"
   ]
  },
  {
   "cell_type": "code",
   "execution_count": 14,
   "metadata": {
    "colab": {
     "base_uri": "https://localhost:8080/",
     "height": 315
    },
    "colab_type": "code",
    "executionInfo": {
     "elapsed": 2139,
     "status": "ok",
     "timestamp": 1568735975365,
     "user": {
      "displayName": "Gaston Bujia",
      "photoUrl": "https://lh3.googleusercontent.com/a-/AAuE7mA8qanA7efVWooa0WiarWsfbZ7tHoiI2N4x0L08kQ=s64",
      "userId": "15901710506675448257"
     },
     "user_tz": 180
    },
    "id": "6xyeUfzG5g_I",
    "outputId": "45303335-13f8-4e7f-a0d3-20812be139d2"
   },
   "outputs": [
    {
     "name": "stderr",
     "output_type": "stream",
     "text": [
      "/home/gaston/miniconda3/lib/python3.7/site-packages/sklearn/linear_model/logistic.py:432: FutureWarning: Default solver will be changed to 'lbfgs' in 0.22. Specify a solver to silence this warning.\n",
      "  FutureWarning)\n",
      "/home/gaston/miniconda3/lib/python3.7/site-packages/sklearn/svm/base.py:929: ConvergenceWarning: Liblinear failed to converge, increase the number of iterations.\n",
      "  \"the number of iterations.\", ConvergenceWarning)\n",
      "/home/gaston/miniconda3/lib/python3.7/site-packages/sklearn/svm/base.py:193: FutureWarning: The default value of gamma will change from 'auto' to 'scale' in version 0.22 to account better for unscaled features. Set gamma explicitly to 'auto' or 'scale' to avoid this warning.\n",
      "  \"avoid this warning.\", FutureWarning)\n",
      "/home/gaston/miniconda3/lib/python3.7/site-packages/sklearn/svm/base.py:193: FutureWarning: The default value of gamma will change from 'auto' to 'scale' in version 0.22 to account better for unscaled features. Set gamma explicitly to 'auto' or 'scale' to avoid this warning.\n",
      "  \"avoid this warning.\", FutureWarning)\n",
      "/home/gaston/miniconda3/lib/python3.7/site-packages/sklearn/svm/base.py:193: FutureWarning: The default value of gamma will change from 'auto' to 'scale' in version 0.22 to account better for unscaled features. Set gamma explicitly to 'auto' or 'scale' to avoid this warning.\n",
      "  \"avoid this warning.\", FutureWarning)\n",
      "/home/gaston/miniconda3/lib/python3.7/site-packages/sklearn/ensemble/forest.py:245: FutureWarning: The default value of n_estimators will change from 10 in version 0.20 to 100 in 0.22.\n",
      "  \"10 in version 0.20 to 100 in 0.22.\", FutureWarning)\n",
      "/home/gaston/miniconda3/lib/python3.7/site-packages/sklearn/ensemble/forest.py:245: FutureWarning: The default value of n_estimators will change from 10 in version 0.20 to 100 in 0.22.\n",
      "  \"10 in version 0.20 to 100 in 0.22.\", FutureWarning)\n",
      "/home/gaston/miniconda3/lib/python3.7/site-packages/sklearn/ensemble/forest.py:245: FutureWarning: The default value of n_estimators will change from 10 in version 0.20 to 100 in 0.22.\n",
      "  \"10 in version 0.20 to 100 in 0.22.\", FutureWarning)\n"
     ]
    }
   ],
   "source": [
    "from sklearn.pipeline import Pipeline\n",
    "from sklearn.model_selection import cross_val_score, cross_val_predict\n",
    "from util import print_short_eval\n",
    "\n",
    "#scores = dict(zip([str(type(clf).__name__) for clf in clfs], [0 for i in clfs]))\n",
    "scores =[]\n",
    "\n",
    "for clf in clfs:\n",
    "    scores.append(cross_val_score(clf, X, y, cv=3))"
   ]
  },
  {
   "cell_type": "code",
   "execution_count": 15,
   "metadata": {
    "colab": {
     "base_uri": "https://localhost:8080/",
     "height": 139
    },
    "colab_type": "code",
    "executionInfo": {
     "elapsed": 872,
     "status": "ok",
     "timestamp": 1568735976169,
     "user": {
      "displayName": "Gaston Bujia",
      "photoUrl": "https://lh3.googleusercontent.com/a-/AAuE7mA8qanA7efVWooa0WiarWsfbZ7tHoiI2N4x0L08kQ=s64",
      "userId": "15901710506675448257"
     },
     "user_tz": 180
    },
    "id": "8pyg_dIv8k86",
    "outputId": "ff58e94a-6bc4-461c-e0d7-69bceafe8ecb"
   },
   "outputs": [
    {
     "data": {
      "text/plain": [
       "[array([0.59217877, 0.65449438, 0.62640449]),\n",
       " array([0.70391061, 0.6994382 , 0.69662921]),\n",
       " array([0.62849162, 0.62359551, 0.63202247]),\n",
       " array([0.70391061, 0.6994382 , 0.69101124]),\n",
       " array([0.70111732, 0.70505618, 0.68258427]),\n",
       " array([0.67318436, 0.73033708, 0.73033708]),\n",
       " array([0.6424581 , 0.65730337, 0.67134831])]"
      ]
     },
     "execution_count": 15,
     "metadata": {},
     "output_type": "execute_result"
    }
   ],
   "source": [
    "scores"
   ]
  },
  {
   "cell_type": "code",
   "execution_count": 16,
   "metadata": {
    "colab": {
     "base_uri": "https://localhost:8080/",
     "height": 280
    },
    "colab_type": "code",
    "executionInfo": {
     "elapsed": 4342,
     "status": "ok",
     "timestamp": 1568736019071,
     "user": {
      "displayName": "Gaston Bujia",
      "photoUrl": "https://lh3.googleusercontent.com/a-/AAuE7mA8qanA7efVWooa0WiarWsfbZ7tHoiI2N4x0L08kQ=s64",
      "userId": "15901710506675448257"
     },
     "user_tz": 180
    },
    "id": "xWfsVrPF7nzi",
    "outputId": "88cfc60f-c1e1-4c8e-b945-c7f52cec7ec8"
   },
   "outputs": [
    {
     "name": "stderr",
     "output_type": "stream",
     "text": [
      "/home/gaston/miniconda3/lib/python3.7/site-packages/sklearn/linear_model/logistic.py:432: FutureWarning: Default solver will be changed to 'lbfgs' in 0.22. Specify a solver to silence this warning.\n",
      "  FutureWarning)\n",
      "/home/gaston/miniconda3/lib/python3.7/site-packages/sklearn/svm/base.py:193: FutureWarning: The default value of gamma will change from 'auto' to 'scale' in version 0.22 to account better for unscaled features. Set gamma explicitly to 'auto' or 'scale' to avoid this warning.\n",
      "  \"avoid this warning.\", FutureWarning)\n",
      "/home/gaston/miniconda3/lib/python3.7/site-packages/sklearn/svm/base.py:193: FutureWarning: The default value of gamma will change from 'auto' to 'scale' in version 0.22 to account better for unscaled features. Set gamma explicitly to 'auto' or 'scale' to avoid this warning.\n",
      "  \"avoid this warning.\", FutureWarning)\n",
      "/home/gaston/miniconda3/lib/python3.7/site-packages/sklearn/svm/base.py:193: FutureWarning: The default value of gamma will change from 'auto' to 'scale' in version 0.22 to account better for unscaled features. Set gamma explicitly to 'auto' or 'scale' to avoid this warning.\n",
      "  \"avoid this warning.\", FutureWarning)\n",
      "/home/gaston/miniconda3/lib/python3.7/site-packages/sklearn/ensemble/forest.py:245: FutureWarning: The default value of n_estimators will change from 10 in version 0.20 to 100 in 0.22.\n",
      "  \"10 in version 0.20 to 100 in 0.22.\", FutureWarning)\n",
      "/home/gaston/miniconda3/lib/python3.7/site-packages/sklearn/ensemble/forest.py:245: FutureWarning: The default value of n_estimators will change from 10 in version 0.20 to 100 in 0.22.\n",
      "  \"10 in version 0.20 to 100 in 0.22.\", FutureWarning)\n",
      "/home/gaston/miniconda3/lib/python3.7/site-packages/sklearn/ensemble/forest.py:245: FutureWarning: The default value of n_estimators will change from 10 in version 0.20 to 100 in 0.22.\n",
      "  \"10 in version 0.20 to 100 in 0.22.\", FutureWarning)\n"
     ]
    }
   ],
   "source": [
    "scores_tf =[]\n",
    "\n",
    "for clf in clfs:\n",
    "    scores_tf.append(cross_val_score(clf, X_TF, y, cv=3).mean())"
   ]
  },
  {
   "cell_type": "code",
   "execution_count": 17,
   "metadata": {
    "colab": {
     "base_uri": "https://localhost:8080/",
     "height": 139
    },
    "colab_type": "code",
    "executionInfo": {
     "elapsed": 864,
     "status": "ok",
     "timestamp": 1568736021491,
     "user": {
      "displayName": "Gaston Bujia",
      "photoUrl": "https://lh3.googleusercontent.com/a-/AAuE7mA8qanA7efVWooa0WiarWsfbZ7tHoiI2N4x0L08kQ=s64",
      "userId": "15901710506675448257"
     },
     "user_tz": 180
    },
    "id": "zUEIYkCC8vlU",
    "outputId": "9791f82a-33a7-41df-a737-358817b61365"
   },
   "outputs": [
    {
     "data": {
      "text/plain": [
       "[0.7916222040884647,\n",
       " 0.8402276484003934,\n",
       " 0.6541752976377294,\n",
       " 0.8402276484003934,\n",
       " 0.8392651643546126,\n",
       " 0.7458048249743685,\n",
       " 0.7224384324064194]"
      ]
     },
     "execution_count": 17,
     "metadata": {},
     "output_type": "execute_result"
    }
   ],
   "source": [
    "scores_tf"
   ]
  },
  {
   "cell_type": "code",
   "execution_count": 18,
   "metadata": {
    "colab": {
     "base_uri": "https://localhost:8080/",
     "height": 159
    },
    "colab_type": "code",
    "executionInfo": {
     "elapsed": 2266,
     "status": "ok",
     "timestamp": 1568736195644,
     "user": {
      "displayName": "Gaston Bujia",
      "photoUrl": "https://lh3.googleusercontent.com/a-/AAuE7mA8qanA7efVWooa0WiarWsfbZ7tHoiI2N4x0L08kQ=s64",
      "userId": "15901710506675448257"
     },
     "user_tz": 180
    },
    "id": "xZbD_buH9Fcd",
    "outputId": "771eb756-fafa-4d49-c68d-05189d8c0db0"
   },
   "outputs": [
    {
     "name": "stderr",
     "output_type": "stream",
     "text": [
      "/home/gaston/miniconda3/lib/python3.7/site-packages/sklearn/linear_model/logistic.py:432: FutureWarning: Default solver will be changed to 'lbfgs' in 0.22. Specify a solver to silence this warning.\n",
      "  FutureWarning)\n"
     ]
    },
    {
     "data": {
      "text/plain": [
       "LogisticRegression(C=1.0, class_weight=None, dual=False, fit_intercept=True,\n",
       "                   intercept_scaling=1, l1_ratio=None, max_iter=100,\n",
       "                   multi_class='warn', n_jobs=None, penalty='l2',\n",
       "                   random_state=None, solver='warn', tol=0.0001, verbose=0,\n",
       "                   warm_start=False)"
      ]
     },
     "execution_count": 18,
     "metadata": {},
     "output_type": "execute_result"
    }
   ],
   "source": [
    "# gano la logistic\n",
    "from sklearn.pipeline import Pipeline\n",
    "\n",
    "clf = LogisticRegression()\n",
    "clf.fit(X_TF, y)\n"
   ]
  },
  {
   "cell_type": "markdown",
   "metadata": {
    "colab_type": "text",
    "id": "00N71S53_7LD"
   },
   "source": [
    "## Validar"
   ]
  },
  {
   "cell_type": "code",
   "execution_count": null,
   "metadata": {
    "colab": {},
    "colab_type": "code",
    "id": "15cZAUBD_56G"
   },
   "outputs": [],
   "source": [
    "import os\n",
    "from sklearn.datasets import load_files\n",
    "from sklearn.model_selection import train_test_split\n",
    "\n",
    "def load_datasets_unlabeled_test():\n",
    "    dataset = load_files('review_polarity_competition/reviews_sentoken', shuffle=False)\n",
    "    docs_train, docs_dev, y_train, y_dev = train_test_split(\n",
    "        dataset.data, dataset.target, test_size=0.10, random_state=42)\n",
    "    dirname = \"review_polarity_competition/test_reviews_sentoken\"\n",
    "    test = []\n",
    "    # I do this to keep the files in numeric order\n",
    "    for fname in range(len(os.listdir(dirname))):\n",
    "        fname = str(fname) + \".txt\"\n",
    "        with open(os.path.join(dirname, fname)) as fd:\n",
    "            test.append((fd.read(), fname))\n",
    "    train = docs_train, y_train\n",
    "    dev = docs_dev, y_dev\n",
    "    return train, dev, test\n",
    "\n",
    "def save_results(fname, labels):\n",
    "    with open(fname, 'w') as f:\n",
    "        f.write(\"Id,Category\\n\")\n",
    "        for i,l in enumerate(labels):\n",
    "            f.write(str(i) + \".txt,\" + str(l) + \"\\n\")"
   ]
  },
  {
   "cell_type": "code",
   "execution_count": null,
   "metadata": {
    "colab": {},
    "colab_type": "code",
    "id": "eQXqDDdFABWV"
   },
   "outputs": [],
   "source": [
    "train, dev, test = load_datasets_unlabeled_test()"
   ]
  },
  {
   "cell_type": "code",
   "execution_count": null,
   "metadata": {
    "colab": {},
    "colab_type": "code",
    "id": "wWircPr_-5eA"
   },
   "outputs": [],
   "source": [
    "X_test = vect_TFIDF.transform(test)\n",
    "y_test_pred = clf.predict(X_test)"
   ]
  },
  {
   "cell_type": "code",
   "execution_count": null,
   "metadata": {
    "colab": {
     "base_uri": "https://localhost:8080/",
     "height": 206
    },
    "colab_type": "code",
    "executionInfo": {
     "elapsed": 684,
     "status": "ok",
     "timestamp": 1568737336022,
     "user": {
      "displayName": "Gaston Bujia",
      "photoUrl": "https://lh3.googleusercontent.com/a-/AAuE7mA8qanA7efVWooa0WiarWsfbZ7tHoiI2N4x0L08kQ=s64",
      "userId": "15901710506675448257"
     },
     "user_tz": 180
    },
    "id": "CJQMC_Y-B7n_",
    "outputId": "beb9f6df-5a21-4202-c4a7-dc3cc752e898"
   },
   "outputs": [
    {
     "data": {
      "text/html": [
       "<div>\n",
       "<style scoped>\n",
       "    .dataframe tbody tr th:only-of-type {\n",
       "        vertical-align: middle;\n",
       "    }\n",
       "\n",
       "    .dataframe tbody tr th {\n",
       "        vertical-align: top;\n",
       "    }\n",
       "\n",
       "    .dataframe thead th {\n",
       "        text-align: right;\n",
       "    }\n",
       "</style>\n",
       "<table border=\"1\" class=\"dataframe\">\n",
       "  <thead>\n",
       "    <tr style=\"text-align: right;\">\n",
       "      <th></th>\n",
       "      <th>0</th>\n",
       "      <th>1</th>\n",
       "    </tr>\n",
       "  </thead>\n",
       "  <tbody>\n",
       "    <tr>\n",
       "      <th>0</th>\n",
       "      <td>The music track of this version is made up of ...</td>\n",
       "      <td>0.txt</td>\n",
       "    </tr>\n",
       "    <tr>\n",
       "      <th>1</th>\n",
       "      <td>I gave this to my 4 year and 2 year old grandc...</td>\n",
       "      <td>1.txt</td>\n",
       "    </tr>\n",
       "    <tr>\n",
       "      <th>2</th>\n",
       "      <td>i was n't expecting much from this dvd ... .bu...</td>\n",
       "      <td>2.txt</td>\n",
       "    </tr>\n",
       "    <tr>\n",
       "      <th>3</th>\n",
       "      <td>I 've seen this one lots of times . I believe ...</td>\n",
       "      <td>3.txt</td>\n",
       "    </tr>\n",
       "    <tr>\n",
       "      <th>4</th>\n",
       "      <td>I purchased all the Inspector Morse DVDs and h...</td>\n",
       "      <td>4.txt</td>\n",
       "    </tr>\n",
       "  </tbody>\n",
       "</table>\n",
       "</div>"
      ],
      "text/plain": [
       "                                                   0      1\n",
       "0  The music track of this version is made up of ...  0.txt\n",
       "1  I gave this to my 4 year and 2 year old grandc...  1.txt\n",
       "2  i was n't expecting much from this dvd ... .bu...  2.txt\n",
       "3  I 've seen this one lots of times . I believe ...  3.txt\n",
       "4  I purchased all the Inspector Morse DVDs and h...  4.txt"
      ]
     },
     "execution_count": 99,
     "metadata": {
      "tags": []
     },
     "output_type": "execute_result"
    }
   ],
   "source": [
    "test_df = pd.DataFrame(test)\n",
    "test_df.head()"
   ]
  },
  {
   "cell_type": "code",
   "execution_count": null,
   "metadata": {
    "colab": {
     "base_uri": "https://localhost:8080/",
     "height": 1000
    },
    "colab_type": "code",
    "executionInfo": {
     "elapsed": 709,
     "status": "ok",
     "timestamp": 1568737422978,
     "user": {
      "displayName": "Gaston Bujia",
      "photoUrl": "https://lh3.googleusercontent.com/a-/AAuE7mA8qanA7efVWooa0WiarWsfbZ7tHoiI2N4x0L08kQ=s64",
      "userId": "15901710506675448257"
     },
     "user_tz": 180
    },
    "id": "3L_tqFlHCVMw",
    "outputId": "ffe4503c-3bc5-464c-841e-5a756aa46558"
   },
   "outputs": [
    {
     "data": {
      "text/plain": [
       "0        0.txt\n",
       "1        1.txt\n",
       "2        2.txt\n",
       "3        3.txt\n",
       "4        4.txt\n",
       "5        5.txt\n",
       "6        6.txt\n",
       "7        7.txt\n",
       "8        8.txt\n",
       "9        9.txt\n",
       "10      10.txt\n",
       "11      11.txt\n",
       "12      12.txt\n",
       "13      13.txt\n",
       "14      14.txt\n",
       "15      15.txt\n",
       "16      16.txt\n",
       "17      17.txt\n",
       "18      18.txt\n",
       "19      19.txt\n",
       "20      20.txt\n",
       "21      21.txt\n",
       "22      22.txt\n",
       "23      23.txt\n",
       "24      24.txt\n",
       "25      25.txt\n",
       "26      26.txt\n",
       "27      27.txt\n",
       "28      28.txt\n",
       "29      29.txt\n",
       "        ...   \n",
       "470    470.txt\n",
       "471    471.txt\n",
       "472    472.txt\n",
       "473    473.txt\n",
       "474    474.txt\n",
       "475    475.txt\n",
       "476    476.txt\n",
       "477    477.txt\n",
       "478    478.txt\n",
       "479    479.txt\n",
       "480    480.txt\n",
       "481    481.txt\n",
       "482    482.txt\n",
       "483    483.txt\n",
       "484    484.txt\n",
       "485    485.txt\n",
       "486    486.txt\n",
       "487    487.txt\n",
       "488    488.txt\n",
       "489    489.txt\n",
       "490    490.txt\n",
       "491    491.txt\n",
       "492    492.txt\n",
       "493    493.txt\n",
       "494    494.txt\n",
       "495    495.txt\n",
       "496    496.txt\n",
       "497    497.txt\n",
       "498    498.txt\n",
       "499    499.txt\n",
       "Name: 1, Length: 500, dtype: object"
      ]
     },
     "execution_count": 101,
     "metadata": {
      "tags": []
     },
     "output_type": "execute_result"
    }
   ],
   "source": [
    "test_df[1]"
   ]
  },
  {
   "cell_type": "code",
   "execution_count": null,
   "metadata": {
    "colab": {},
    "colab_type": "code",
    "id": "MvBhDhzpAc3A"
   },
   "outputs": [],
   "source": [
    "dirname = \"review_polarity_competition/test_reviews_sentoken\"\n",
    "save_results('/home/results.csv', y_test_pred)"
   ]
  }
 ],
 "metadata": {
  "colab": {
   "collapsed_sections": [],
   "name": "tp2-nlp.ipynb",
   "provenance": [
    {
     "file_id": "1am24Fm8LuShgctWhsFOkCKdXDBwn6m2p",
     "timestamp": 1568737778708
    }
   ],
   "version": "0.3.2"
  },
  "kernelspec": {
   "display_name": "Python 3",
   "language": "python",
   "name": "python3"
  },
  "language_info": {
   "codemirror_mode": {
    "name": "ipython",
    "version": 3
   },
   "file_extension": ".py",
   "mimetype": "text/x-python",
   "name": "python",
   "nbconvert_exporter": "python",
   "pygments_lexer": "ipython3",
   "version": "3.7.3"
  }
 },
 "nbformat": 4,
 "nbformat_minor": 4
}
