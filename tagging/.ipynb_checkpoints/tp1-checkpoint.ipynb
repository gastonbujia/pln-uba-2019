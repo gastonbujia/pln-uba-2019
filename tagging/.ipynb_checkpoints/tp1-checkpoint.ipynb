{
 "cells": [
  {
   "cell_type": "markdown",
   "metadata": {},
   "source": [
    "# 1. Stats"
   ]
  },
  {
   "cell_type": "code",
   "execution_count": 3,
   "metadata": {},
   "outputs": [
    {
     "name": "stdout",
     "output_type": "stream",
     "text": [
      "Basic Statistics\n",
      "================\n",
      "sents: 17378\n",
      "tokens: 517194\n",
      "words: 46501\n",
      "tags: 85\n",
      "\n",
      "Most Frequent POS Tags\n",
      "======================\n",
      "tag\tfreq\t%\ttop\n",
      "sp000\t79884\t15.45\t(de, en, a, del, con)\n",
      "nc0s000\t63452\t12.27\t(presidente, equipo, partido, país, año)\n",
      "da0000\t54549\t10.55\t(la, el, los, las, El)\n",
      "aq0000\t33906\t6.56\t(pasado, gran, mayor, nuevo, próximo)\n",
      "fc\t30147\t5.83\t(,)\n",
      "np00000\t29111\t5.63\t(Gobierno, España, PP, Barcelona, Madrid)\n",
      "nc0p000\t27736\t5.36\t(años, millones, personas, países, días)\n",
      "fp\t17512\t3.39\t(.)\n",
      "rg\t15336\t2.97\t(más, hoy, también, ayer, ya)\n",
      "cc\t15023\t2.90\t(y, pero, o, Pero, e)\n",
      "\n",
      "Word Ambiguity Levels\n",
      "=====================\n",
      "n\twords\t%\ttop\n",
      "1\t43972\t94.56\t(,, con, por, su, El)\n",
      "2\t2318\t4.98\t(el, en, y, \", los)\n",
      "3\t180\t0.39\t(de, la, ., un, no)\n",
      "4\t23\t0.05\t(que, a, dos, este, fue)\n",
      "5\t5\t0.01\t(mismo, cinco, medio, ocho, vista)\n",
      "6\t3\t0.01\t(una, como, uno)\n",
      "7\t0\t0.00\t()\n",
      "8\t0\t0.00\t()\n",
      "9\t0\t0.00\t()\n"
     ]
    }
   ],
   "source": [
    "%run ./scripts/stats.py -c ../ancora-3.0.1es"
   ]
  },
  {
   "cell_type": "markdown",
   "metadata": {},
   "source": [
    "# 2. Etiquetado de Secuencias: Parte 2\n",
    "\n",
    "Usaremos los scripts train.py y eval.py del práctico 1:"
   ]
  },
  {
   "cell_type": "markdown",
   "metadata": {},
   "source": [
    "## 2.1. Baseline Malo: Todo es Sustantivo Singular"
   ]
  },
  {
   "cell_type": "markdown",
   "metadata": {},
   "source": [
    "Primero \"entrenamos\" este baseline (no hace nada en realidad):"
   ]
  },
  {
   "cell_type": "code",
   "execution_count": 7,
   "metadata": {},
   "outputs": [],
   "source": [
    "%run ./scripts/train.py -c ../ancora-3.0.1es -m badbase -o badbase"
   ]
  },
  {
   "cell_type": "markdown",
   "metadata": {},
   "source": [
    "Luego evaluamos. Usamos la opción '-m' para imprimir la matrz de confusión:"
   ]
  },
  {
   "cell_type": "code",
   "execution_count": 47,
   "metadata": {},
   "outputs": [
    {
     "name": "stdout",
     "output_type": "stream",
     "text": [
      "\n",
      "Accuracy: 12.65% / 0.00% / 12.65% (total / known / unk)\n",
      "\n",
      "g \\ m\tsp000\tnc0s000\tda0000\taq0000\tfc\tnc0p000\trg\tnp00000\tfp\tcc\n",
      "sp000\t-\t14.39\t-\t-\t-\t-\t-\t-\t-\t-\t\n",
      "nc0s000\t-\t12.65\t-\t-\t-\t-\t-\t-\t-\t-\t\n",
      "da0000\t-\t9.70\t-\t-\t-\t-\t-\t-\t-\t-\t\n",
      "aq0000\t-\t7.28\t-\t-\t-\t-\t-\t-\t-\t-\t\n",
      "fc\t-\t5.85\t-\t-\t-\t-\t-\t-\t-\t-\t\n",
      "nc0p000\t-\t5.53\t-\t-\t-\t-\t-\t-\t-\t-\t\n",
      "rg\t-\t3.73\t-\t-\t-\t-\t-\t-\t-\t-\t\n",
      "np00000\t-\t3.58\t-\t-\t-\t-\t-\t-\t-\t-\t\n",
      "fp\t-\t3.55\t-\t-\t-\t-\t-\t-\t-\t-\t\n",
      "cc\t-\t3.41\t-\t-\t-\t-\t-\t-\t-\t-\t\n"
     ]
    }
   ],
   "source": [
    "%run ./scripts/eval.py -c ../ancora-3.0.1es -i badbase -m"
   ]
  },
  {
   "cell_type": "markdown",
   "metadata": {},
   "source": [
    "La matriz de confusión muestra en la fila X columna Y la proporción de veces que el tagger eligió el tag Y pero el tag verdadero es X. Sólo se imprime la matriz para los 10 tags más frecuentes."
   ]
  },
  {
   "cell_type": "markdown",
   "metadata": {},
   "source": [
    "## 2.2. Baseline (Menos Malo): Etiqueta Más Frecuente\n",
    "\n",
    "**Primero resolver ejercicio 2 del práctico!**"
   ]
  },
  {
   "cell_type": "code",
   "execution_count": 11,
   "metadata": {},
   "outputs": [],
   "source": [
    "%run ./scripts/train.py -c ../ancora-3.0.1es -m base -o base"
   ]
  },
  {
   "cell_type": "code",
   "execution_count": 12,
   "metadata": {},
   "outputs": [
    {
     "name": "stdout",
     "output_type": "stream",
     "text": [
      "\n",
      "Accuracy: 87.58% / 95.27% / 18.01% (total / known / unk)\n",
      "\n",
      "g \\ m\tsp000\tnc0s000\tda0000\taq0000\tfc\tnc0p000\trg\tnp00000\tfp\tcc\n",
      "sp000\t14.28\t0.05\t-\t-\t-\t-\t0.01\t-\t-\t-\t\n",
      "nc0s000\t0.00\t12.22\t-\t0.24\t-\t0.00\t0.03\t0.00\t-\t0.00\t\n",
      "da0000\t-\t0.15\t9.54\t-\t-\t-\t-\t-\t-\t-\t\n",
      "aq0000\t0.01\t2.05\t-\t4.84\t-\t0.13\t0.00\t-\t-\t-\t\n",
      "fc\t-\t-\t-\t-\t5.85\t-\t-\t-\t-\t-\t\n",
      "nc0p000\t-\t1.24\t-\t0.21\t-\t4.07\t-\t-\t-\t-\t\n",
      "rg\t0.02\t0.31\t-\t0.03\t-\t-\t3.29\t-\t-\t0.02\t\n",
      "np00000\t0.00\t2.04\t-\t0.00\t-\t0.00\t-\t1.52\t-\t0.00\t\n",
      "fp\t-\t-\t-\t-\t-\t-\t-\t-\t3.55\t-\t\n",
      "cc\t0.00\t0.01\t-\t-\t-\t-\t0.05\t0.00\t-\t3.34\t\n"
     ]
    }
   ],
   "source": [
    "%run ./scripts/eval.py -c ../ancora-3.0.1es -i base -m"
   ]
  },
  {
   "cell_type": "code",
   "execution_count": 13,
   "metadata": {},
   "outputs": [
    {
     "name": "stdout",
     "output_type": "stream",
     "text": [
      "\n",
      "Accuracy: 87.58% / 95.27% / 18.01% (total / known / unk)\n"
     ]
    },
    {
     "data": {
      "image/png": "[encoded data removed]",
      "text/plain": [
       "<Figure size 432x288 with 2 Axes>"
      ]
     },
     "metadata": {
      "needs_background": "light"
     },
     "output_type": "display_data"
    },
    {
     "data": {
      "text/plain": [
       "<Figure size 432x288 with 0 Axes>"
      ]
     },
     "metadata": {},
     "output_type": "display_data"
    }
   ],
   "source": [
    "%run ./scripts/eval.py -c ../ancora-3.0.1es -i base --heatmap"
   ]
  },
  {
   "cell_type": "markdown",
   "metadata": {},
   "source": [
    "**Se puede ver que uno de los principales errores del tagger es confundir nombre propio (np00000) con nombre común (nc0s000), con un 2.05% del error total.**"
   ]
  },
  {
   "cell_type": "code",
   "execution_count": null,
   "metadata": {},
   "outputs": [],
   "source": [
    "# Chequeado hasta aca - 17/12"
   ]
  },
  {
   "cell_type": "markdown",
   "metadata": {},
   "source": [
    "## 2.3. Análisis de Errores (No estoy seguro si esto va aca o en la cuarta parte)"
   ]
  },
  {
   "cell_type": "markdown",
   "metadata": {},
   "source": [
    "El script de evaluación eval.py calcula variables útiles para hacer análisis de errores:\n",
    "\n",
    "- **error_count:** matriz de confusión completa.\n",
    "- **error_sents:** matriz de índices de las oraciones en las que ocurre cada error.\n",
    "\n",
    "Por ejemplo, podemos ver algunas oraciones en las que el tagger confunde nombre propio con nombre común:"
   ]
  },
  {
   "cell_type": "code",
   "execution_count": 7,
   "metadata": {},
   "outputs": [
    {
     "data": {
      "text/plain": [
       "1939"
      ]
     },
     "execution_count": 7,
     "metadata": {},
     "output_type": "execute_result"
    }
   ],
   "source": [
    "error_count['np00000']['nc0s000']  # / total da 2.05%"
   ]
  },
  {
   "cell_type": "code",
   "execution_count": 44,
   "metadata": {},
   "outputs": [
    {
     "data": {
      "text/plain": [
       "[0, 1, 4, 5, 6, 7, 8, 9, 12, 13]"
      ]
     },
     "execution_count": 44,
     "metadata": {},
     "output_type": "execute_result"
    }
   ],
   "source": [
    "sorted(error_sents['np00000']['nc0s000'])[:10]"
   ]
  },
  {
   "cell_type": "markdown",
   "metadata": {},
   "source": [
    "Veamos la primer oración:"
   ]
  },
  {
   "cell_type": "code",
   "execution_count": 48,
   "metadata": {},
   "outputs": [
    {
     "data": {
      "text/plain": [
       "[('El', 'da0000'),\n",
       " ('presidente', 'nc0s000'),\n",
       " ('del', 'sp000'),\n",
       " ('órgano', 'nc0s000'),\n",
       " ('regulador', 'aq0000'),\n",
       " ('de', 'sp000'),\n",
       " ('las', 'da0000'),\n",
       " ('Telecomunicaciones', 'np00000'),\n",
       " ('se', 'p0000000'),\n",
       " ('mostró', 'vmis000')]"
      ]
     },
     "execution_count": 48,
     "metadata": {},
     "output_type": "execute_result"
    }
   ],
   "source": [
    "sent = sents[0]\n",
    "words, tags = zip(*sent)  # separar las palabras de los tags\n",
    "sent[:10]"
   ]
  },
  {
   "cell_type": "code",
   "execution_count": 49,
   "metadata": {},
   "outputs": [
    {
     "data": {
      "text/plain": [
       "['da0000',\n",
       " 'nc0s000',\n",
       " 'sp000',\n",
       " 'nc0s000',\n",
       " 'aq0000',\n",
       " 'sp000',\n",
       " 'da0000',\n",
       " 'nc0s000',\n",
       " 'p0000000',\n",
       " 'vmis000']"
      ]
     },
     "execution_count": 49,
     "metadata": {},
     "output_type": "execute_result"
    }
   ],
   "source": [
    "model.tag(words[:10])"
   ]
  },
  {
   "cell_type": "code",
   "execution_count": 50,
   "metadata": {},
   "outputs": [
    {
     "data": {
      "text/plain": [
       "True"
      ]
     },
     "execution_count": 50,
     "metadata": {},
     "output_type": "execute_result"
    }
   ],
   "source": [
    "model.unknown('Telecomunicaciones')"
   ]
  },
  {
   "cell_type": "markdown",
   "metadata": {},
   "source": [
    "Es claro que el tagger se puede mejorar para palabras desconocidas mirando características como el uso de mayúsculas y también de caracteres no estándar del inglés (e.g. letras acentuadas)."
   ]
  },
  {
   "cell_type": "markdown",
   "metadata": {},
   "source": [
    "___\n",
    "## 3. Clasificación"
   ]
  },
  {
   "cell_type": "code",
   "execution_count": 1,
   "metadata": {},
   "outputs": [],
   "source": [
    "%reload_ext tagging.classifier"
   ]
  },
  {
   "cell_type": "code",
   "execution_count": 23,
   "metadata": {},
   "outputs": [],
   "source": [
    "from tagging.ancora import SimpleAncoraCorpusReader\n",
    "from tagging.baseline import BaselineTagger, BadBaselineTagger\n",
    "\n",
    "\n",
    "models = {\n",
    "    'badbase': BadBaselineTagger,\n",
    "    'base': BaselineTagger,\n",
    "}\n",
    "\n",
    "\n",
    "# load the data\n",
    "files = 'CESS-CAST-(A|AA|P)/.*\\.tbf\\.xml'\n",
    "corpus = SimpleAncoraCorpusReader('../ancora-3.0.1es', files)\n",
    "sents = corpus.tagged_sents()"
   ]
  },
  {
   "cell_type": "code",
   "execution_count": 17,
   "metadata": {},
   "outputs": [
    {
     "data": {
      "text/plain": [
       "{'lower': 'electricidad_águila_de_altamira',\n",
       " 'firstUpper': True,\n",
       " 'isUpper': False,\n",
       " 'isNumber': False,\n",
       " 'prevLower': 'mexicana',\n",
       " 'prevFirstUpper': False,\n",
       " 'prevIsUpper': False,\n",
       " 'prevIsNumber': False,\n",
       " 'nextLower': '(',\n",
       " 'nextFirstUpper': False,\n",
       " 'nextIsUpper': False,\n",
       " 'nextIsNumber': False}"
      ]
     },
     "execution_count": 17,
     "metadata": {},
     "output_type": "execute_result"
    }
   ],
   "source": [
    "from classifier import feature_dict\n",
    "\n",
    "sent = sents[0]\n",
    "for i, word in enumerate(sent):\n",
    "    feature_dict(sent,i)\n",
    "    \n",
    "feature_dict(sent,20)"
   ]
  },
  {
   "cell_type": "code",
   "execution_count": 16,
   "metadata": {},
   "outputs": [
    {
     "data": {
      "text/plain": [
       "[('El', 'da0000'),\n",
       " ('grupo', 'nc0s000'),\n",
       " ('estatal', 'aq0000'),\n",
       " ('Electricité_de_France', 'np00000'),\n",
       " ('(', 'fpa'),\n",
       " ('EDF', 'np00000'),\n",
       " (')', 'fpt'),\n",
       " ('anunció', 'vmis000'),\n",
       " ('hoy', 'rg'),\n",
       " (',', 'fc'),\n",
       " ('jueves', 'da0000'),\n",
       " (',', 'fc'),\n",
       " ('la', 'da0000'),\n",
       " ('compra', 'nc0s000'),\n",
       " ('del', 'sp000'),\n",
       " ('51_por_ciento', 'z0'),\n",
       " ('de', 'sp000'),\n",
       " ('la', 'da0000'),\n",
       " ('empresa', 'nc0s000'),\n",
       " ('mexicana', 'aq0000'),\n",
       " ('Electricidad_Águila_de_Altamira', 'np00000'),\n",
       " ('(', 'fpa'),\n",
       " ('EAA', 'np00000'),\n",
       " (')', 'fpt'),\n",
       " (',', 'fc'),\n",
       " ('creada', 'aq0000'),\n",
       " ('por', 'sp000'),\n",
       " ('el', 'da0000'),\n",
       " ('japonés', 'aq0000'),\n",
       " ('Mitsubishi_Corporation', 'np00000'),\n",
       " ('para', 'sp000'),\n",
       " ('poner_en_marcha', 'vmn0000'),\n",
       " ('una', 'di0000'),\n",
       " ('central', 'nc0s000'),\n",
       " ('de', 'sp000'),\n",
       " ('gas', 'nc0s000'),\n",
       " ('de', 'sp000'),\n",
       " ('495', 'number'),\n",
       " ('megavatios', 'nc0p000'),\n",
       " ('.', 'fp')]"
      ]
     },
     "execution_count": 16,
     "metadata": {},
     "output_type": "execute_result"
    }
   ],
   "source": [
    "sent"
   ]
  },
  {
   "cell_type": "code",
   "execution_count": 24,
   "metadata": {},
   "outputs": [],
   "source": [
    "sents = corpus.tagged_sents()"
   ]
  },
  {
   "cell_type": "code",
   "execution_count": 26,
   "metadata": {},
   "outputs": [],
   "source": [
    "# Featurizo todo el dataset \n",
    "X = []\n",
    "y_true = []\n",
    "for sent in sents:\n",
    "    for i, (word, tag) in enumerate(sent):\n",
    "        x = feature_dict(sent, i)\n",
    "        X.append(x)\n",
    "        y_true.append(tag)"
   ]
  },
  {
   "cell_type": "code",
   "execution_count": 35,
   "metadata": {},
   "outputs": [],
   "source": [
    "from sklearn.feature_extraction import DictVectorizer\n",
    "import numpy as np\n",
    "\n",
    "vect = DictVectorizer()\n",
    "vect.fit(X)"
   ]
  },
  {
   "cell_type": "code",
   "execution_count": 38,
   "metadata": {},
   "outputs": [
    {
     "data": {
      "text/plain": [
       "array([[1., 0., 0., ..., 0., 0., 0.]])"
      ]
     },
     "execution_count": 38,
     "metadata": {},
     "output_type": "execute_result"
    }
   ],
   "source": [
    "v = vect.transform(X[0])\n",
    "v.toarray()"
   ]
  },
  {
   "cell_type": "code",
   "execution_count": 39,
   "metadata": {},
   "outputs": [
    {
     "name": "stdout",
     "output_type": "stream",
     "text": [
      "  (0, 0)\t1.0\n",
      "  (0, 1)\t0.0\n",
      "  (0, 2)\t0.0\n",
      "  (0, 14151)\t1.0\n",
      "  (0, 37541)\t0.0\n",
      "  (0, 37542)\t0.0\n",
      "  (0, 37543)\t0.0\n",
      "  (0, 55859)\t1.0\n",
      "  (0, 74461)\t0.0\n",
      "  (0, 74462)\t0.0\n",
      "  (0, 74463)\t0.0\n",
      "  (0, 76457)\t1.0\n"
     ]
    }
   ],
   "source": [
    "print(v)"
   ]
  },
  {
   "cell_type": "code",
   "execution_count": 40,
   "metadata": {},
   "outputs": [
    {
     "data": {
      "text/plain": [
       "MultinomialNB(alpha=1.0, class_prior=None, fit_prior=True)"
      ]
     },
     "execution_count": 40,
     "metadata": {},
     "output_type": "execute_result"
    }
   ],
   "source": [
    "from sklearn.naive_bayes import MultinomialNB\n",
    "\n",
    "clf = MultinomialNB()\n",
    "X2 = vect.transform(X)\n",
    "clf.fit(X2, y_true)"
   ]
  },
  {
   "cell_type": "code",
   "execution_count": 44,
   "metadata": {},
   "outputs": [
    {
     "data": {
      "text/plain": [
       "array(['da0000'], dtype='<U8')"
      ]
     },
     "execution_count": 44,
     "metadata": {},
     "output_type": "execute_result"
    }
   ],
   "source": [
    "x = {'lower': 'el', 'istitle': True}\n",
    "x2 = vect.transform(x)\n",
    "clf.predict(x2)"
   ]
  },
  {
   "cell_type": "code",
   "execution_count": 48,
   "metadata": {},
   "outputs": [
    {
     "ename": "TypeError",
     "evalue": "can't pickle generator objects",
     "output_type": "error",
     "traceback": [
      "\u001b[0;31m---------------------------------------------------------------------------\u001b[0m",
      "\u001b[0;31mTypeError\u001b[0m                                 Traceback (most recent call last)",
      "\u001b[0;32m~/Repos/pln-uba-2019/tagging/scripts/train.py\u001b[0m in \u001b[0;36m<module>\u001b[0;34m\u001b[0m\n\u001b[1;32m     51\u001b[0m     \u001b[0mfilename\u001b[0m \u001b[0;34m=\u001b[0m \u001b[0mopts\u001b[0m\u001b[0;34m[\u001b[0m\u001b[0;34m'-o'\u001b[0m\u001b[0;34m]\u001b[0m\u001b[0;34m\u001b[0m\u001b[0;34m\u001b[0m\u001b[0m\n\u001b[1;32m     52\u001b[0m     \u001b[0mf\u001b[0m \u001b[0;34m=\u001b[0m \u001b[0mopen\u001b[0m\u001b[0;34m(\u001b[0m\u001b[0mfilename\u001b[0m\u001b[0;34m,\u001b[0m \u001b[0;34m'wb'\u001b[0m\u001b[0;34m)\u001b[0m\u001b[0;34m\u001b[0m\u001b[0;34m\u001b[0m\u001b[0m\n\u001b[0;32m---> 53\u001b[0;31m     \u001b[0mpickle\u001b[0m\u001b[0;34m.\u001b[0m\u001b[0mdump\u001b[0m\u001b[0;34m(\u001b[0m\u001b[0mmodel\u001b[0m\u001b[0;34m,\u001b[0m \u001b[0mf\u001b[0m\u001b[0;34m)\u001b[0m\u001b[0;34m\u001b[0m\u001b[0;34m\u001b[0m\u001b[0m\n\u001b[0m\u001b[1;32m     54\u001b[0m     \u001b[0mf\u001b[0m\u001b[0;34m.\u001b[0m\u001b[0mclose\u001b[0m\u001b[0;34m(\u001b[0m\u001b[0;34m)\u001b[0m\u001b[0;34m\u001b[0m\u001b[0;34m\u001b[0m\u001b[0m\n",
      "\u001b[0;31mTypeError\u001b[0m: can't pickle generator objects"
     ]
    }
   ],
   "source": [
    "%run ./scripts/train.py -c ../ancora-3.0.1es -m lr -o lr"
   ]
  },
  {
   "cell_type": "code",
   "execution_count": null,
   "metadata": {},
   "outputs": [],
   "source": [
    "\n"
   ]
  }
 ],
 "metadata": {
  "kernelspec": {
   "display_name": "Python 3",
   "language": "python",
   "name": "python3"
  },
  "language_info": {
   "codemirror_mode": {
    "name": "ipython",
    "version": 3
   },
   "file_extension": ".py",
   "mimetype": "text/x-python",
   "name": "python",
   "nbconvert_exporter": "python",
   "pygments_lexer": "ipython3",
   "version": "3.7.3"
  }
 },
 "nbformat": 4,
 "nbformat_minor": 4
}
