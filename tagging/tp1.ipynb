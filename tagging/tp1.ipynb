{
 "cells": [
  {
   "cell_type": "markdown",
   "metadata": {},
   "source": [
    "# 1. Stats"
   ]
  },
  {
   "cell_type": "code",
   "execution_count": 4,
   "metadata": {},
   "outputs": [
    {
     "name": "stdout",
     "output_type": "stream",
     "text": [
      "Basic Statistics\n",
      "================\n",
      "sents: 17378\n",
      "tokens: 517194\n",
      "words: 46501\n",
      "tags: 85\n",
      "\n",
      "Most Frequent POS Tags\n",
      "======================\n",
      "tag\tfreq\t%\ttop\n",
      "sp000\t79884\t15.45\t(de, en, a, del, con)\n",
      "nc0s000\t63452\t12.27\t(presidente, equipo, partido, país, año)\n",
      "da0000\t54549\t10.55\t(la, el, los, las, El)\n",
      "aq0000\t33906\t6.56\t(pasado, gran, mayor, nuevo, próximo)\n",
      "fc\t30147\t5.83\t(,)\n",
      "np00000\t29111\t5.63\t(Gobierno, España, PP, Barcelona, Madrid)\n",
      "nc0p000\t27736\t5.36\t(años, millones, personas, países, días)\n",
      "fp\t17512\t3.39\t(.)\n",
      "rg\t15336\t2.97\t(más, hoy, también, ayer, ya)\n",
      "cc\t15023\t2.90\t(y, pero, o, Pero, e)\n",
      "\n",
      "Word Ambiguity Levels\n",
      "=====================\n",
      "n\twords\t%\ttop\n",
      "1\t43972\t94.56\t(,, con, por, su, El)\n",
      "2\t2318\t4.98\t(el, en, y, \", los)\n",
      "3\t180\t0.39\t(de, la, ., un, no)\n",
      "4\t23\t0.05\t(que, a, dos, este, fue)\n",
      "5\t5\t0.01\t(mismo, cinco, medio, ocho, vista)\n",
      "6\t3\t0.01\t(una, como, uno)\n",
      "7\t0\t0.00\t()\n",
      "8\t0\t0.00\t()\n",
      "9\t0\t0.00\t()\n"
     ]
    }
   ],
   "source": [
    "%run ./scripts/stats.py -c ../ancora-3.0.1es"
   ]
  },
  {
   "cell_type": "markdown",
   "metadata": {},
   "source": [
    "# 2. Etiquetado de Secuencias: Parte 2\n",
    "\n",
    "Usaremos los scripts train.py y eval.py del práctico 1:"
   ]
  },
  {
   "cell_type": "markdown",
   "metadata": {},
   "source": [
    "## 2.1. Baseline Malo: Todo es Sustantivo Singular"
   ]
  },
  {
   "cell_type": "markdown",
   "metadata": {},
   "source": [
    "Primero \"entrenamos\" este baseline (no hace nada en realidad):"
   ]
  },
  {
   "cell_type": "code",
   "execution_count": 16,
   "metadata": {},
   "outputs": [],
   "source": [
    "%run ./scripts/train.py -c ../ancora-3.0.1es -m badbase -o badbase"
   ]
  },
  {
   "cell_type": "markdown",
   "metadata": {},
   "source": [
    "Luego evaluamos. Usamos la opción '-m' para imprimir la matrz de confusión:"
   ]
  },
  {
   "cell_type": "code",
   "execution_count": 18,
   "metadata": {},
   "outputs": [
    {
     "name": "stdout",
     "output_type": "stream",
     "text": [
      "\n",
      "Accuracy: 12.65% / 0.00% / 12.65% (total / known / unk)\n",
      "\n",
      "g \\ m\tsp000\tnc0s000\tda0000\taq0000\tfc\tnc0p000\trg\tnp00000\tfp\tcc\n",
      "sp000\t-\t14.39\t-\t-\t-\t-\t-\t-\t-\t-\t\n",
      "nc0s000\t-\t12.65\t-\t-\t-\t-\t-\t-\t-\t-\t\n",
      "da0000\t-\t9.70\t-\t-\t-\t-\t-\t-\t-\t-\t\n",
      "aq0000\t-\t7.28\t-\t-\t-\t-\t-\t-\t-\t-\t\n",
      "fc\t-\t5.85\t-\t-\t-\t-\t-\t-\t-\t-\t\n",
      "nc0p000\t-\t5.53\t-\t-\t-\t-\t-\t-\t-\t-\t\n",
      "rg\t-\t3.73\t-\t-\t-\t-\t-\t-\t-\t-\t\n",
      "np00000\t-\t3.58\t-\t-\t-\t-\t-\t-\t-\t-\t\n",
      "fp\t-\t3.55\t-\t-\t-\t-\t-\t-\t-\t-\t\n",
      "cc\t-\t3.41\t-\t-\t-\t-\t-\t-\t-\t-\t\n"
     ]
    }
   ],
   "source": [
    "%run ./scripts/eval.py -c ../ancora-3.0.1es -i badbase -m"
   ]
  },
  {
   "cell_type": "markdown",
   "metadata": {},
   "source": [
    "La matriz de confusión muestra en la fila X columna Y la proporción de veces que el tagger eligió el tag Y pero el tag verdadero es X. Sólo se imprime la matriz para los 10 tags más frecuentes."
   ]
  },
  {
   "cell_type": "markdown",
   "metadata": {},
   "source": [
    "## 2.2. Baseline (Menos Malo): Etiqueta Más Frecuente\n",
    "\n",
    "**Primero resolver ejercicio 2 del práctico!**"
   ]
  },
  {
   "cell_type": "code",
   "execution_count": 2,
   "metadata": {},
   "outputs": [],
   "source": [
    "%run ./scripts/train.py -c ../ancora-3.0.1es -m base -o base"
   ]
  },
  {
   "cell_type": "code",
   "execution_count": 6,
   "metadata": {},
   "outputs": [
    {
     "name": "stdout",
     "output_type": "stream",
     "text": [
      "\n",
      "Accuracy: 87.58% / 95.27% / 18.01% (total / known / unk)\n",
      "\n",
      "g \\ m\tsp000\tnc0s000\tda0000\taq0000\tfc\tnc0p000\trg\tnp00000\tfp\tcc\n",
      "sp000\t14.28\t0.05\t-\t-\t-\t-\t0.01\t-\t-\t-\t\n",
      "nc0s000\t0.00\t12.22\t-\t0.24\t-\t0.00\t0.03\t0.00\t-\t0.00\t\n",
      "da0000\t-\t0.15\t9.54\t-\t-\t-\t-\t-\t-\t-\t\n",
      "aq0000\t0.01\t2.05\t-\t4.84\t-\t0.13\t0.00\t-\t-\t-\t\n",
      "fc\t-\t-\t-\t-\t5.85\t-\t-\t-\t-\t-\t\n",
      "nc0p000\t-\t1.24\t-\t0.21\t-\t4.07\t-\t-\t-\t-\t\n",
      "rg\t0.02\t0.31\t-\t0.03\t-\t-\t3.29\t-\t-\t0.02\t\n",
      "np00000\t0.00\t2.04\t-\t0.00\t-\t0.00\t-\t1.52\t-\t0.00\t\n",
      "fp\t-\t-\t-\t-\t-\t-\t-\t-\t3.55\t-\t\n",
      "cc\t0.00\t0.01\t-\t-\t-\t-\t0.05\t0.00\t-\t3.34\t\n"
     ]
    }
   ],
   "source": [
    "%run ./scripts/eval.py -c ../ancora-3.0.1es -i base -m"
   ]
  },
  {
   "cell_type": "code",
   "execution_count": 10,
   "metadata": {},
   "outputs": [
    {
     "ename": "DocoptExit",
     "evalue": "Usage:\n  eval.py [options] -c <path> -i <file>\n  eval.py -h | --help",
     "output_type": "error",
     "traceback": [
      "An exception has occurred, use %tb to see the full traceback.\n",
      "\u001b[0;31mDocoptExit\u001b[0m\u001b[0;31m:\u001b[0m Usage:\n  eval.py [options] -c <path> -i <file>\n  eval.py -h | --help\n"
     ]
    }
   ],
   "source": [
    "%run ./scripts/eval.py -c ../ancora-3.0.1es -i base -m -mcolor"
   ]
  },
  {
   "cell_type": "code",
   "execution_count": 11,
   "metadata": {},
   "outputs": [
    {
     "name": "stdout",
     "output_type": "stream",
     "text": [
      "Evaulate a tagger.\n",
      "\n",
      "Usage:\n",
      "  eval.py [options] -c <path> -i <file> \n",
      "  eval.py -h | --help\n",
      "\n",
      "Options:\n",
      "  -c <path>     Ancora corpus path.\n",
      "  -i <file>     Tagging model file.\n",
      "  -p            Show progress bar.\n",
      "  -m            Show confusion matrix.\n",
      "  -mcolor       Show heatmap of confusion matrix.\n",
      "  -h --help     Show this screen.\n"
     ]
    }
   ],
   "source": [
    "%run ./scripts/eval.py --help"
   ]
  },
  {
   "cell_type": "code",
   "execution_count": 4,
   "metadata": {},
   "outputs": [
    {
     "name": "stdout",
     "output_type": "stream",
     "text": [
      "Evaulate a tagger.\n",
      "\n",
      "Usage:\n",
      "  eval.py [options] -c <path> -i <file>\n",
      "  eval.py -h | --help\n",
      "\n",
      "Options:\n",
      "  -c <path>     Ancora corpus path.\n",
      "  -i <file>     Tagging model file.\n",
      "  -p            Show progress bar.\n",
      "  -m            Show confusion matrix.\n",
      "  -mcolor       Show heatmap of confusion matrix.\n",
      "  -h --help     Show this screen.\n"
     ]
    }
   ],
   "source": [
    "%run ./scripts/eval.py -h"
   ]
  },
  {
   "cell_type": "markdown",
   "metadata": {},
   "source": [
    "**Se puede ver que uno de los principales errores del tagger es confundir nombre propio (np00000) con nombre común (nc0s000), con un 2.05% del error total.**"
   ]
  },
  {
   "cell_type": "code",
   "execution_count": null,
   "metadata": {},
   "outputs": [],
   "source": [
    "sns.heatmap(a)"
   ]
  },
  {
   "cell_type": "markdown",
   "metadata": {},
   "source": [
    "## 2.3. Análisis de Errores"
   ]
  },
  {
   "cell_type": "markdown",
   "metadata": {},
   "source": [
    "El script de evaluación eval.py calcula variables útiles para hacer análisis de errores:\n",
    "\n",
    "- **error_count:** matriz de confusión completa.\n",
    "- **error_sents:** matriz de índices de las oraciones en las que ocurre cada error.\n",
    "\n",
    "Por ejemplo, podemos ver algunas oraciones en las que el tagger confunde nombre propio con nombre común:"
   ]
  },
  {
   "cell_type": "code",
   "execution_count": 7,
   "metadata": {},
   "outputs": [
    {
     "data": {
      "text/plain": [
       "1939"
      ]
     },
     "execution_count": 7,
     "metadata": {},
     "output_type": "execute_result"
    }
   ],
   "source": [
    "error_count['np00000']['nc0s000']  # / total da 2.05%"
   ]
  },
  {
   "cell_type": "code",
   "execution_count": 44,
   "metadata": {},
   "outputs": [
    {
     "data": {
      "text/plain": [
       "[0, 1, 4, 5, 6, 7, 8, 9, 12, 13]"
      ]
     },
     "execution_count": 44,
     "metadata": {},
     "output_type": "execute_result"
    }
   ],
   "source": [
    "sorted(error_sents['np00000']['nc0s000'])[:10]"
   ]
  },
  {
   "cell_type": "markdown",
   "metadata": {},
   "source": [
    "Veamos la primer oración:"
   ]
  },
  {
   "cell_type": "code",
   "execution_count": 48,
   "metadata": {},
   "outputs": [
    {
     "data": {
      "text/plain": [
       "[('El', 'da0000'),\n",
       " ('presidente', 'nc0s000'),\n",
       " ('del', 'sp000'),\n",
       " ('órgano', 'nc0s000'),\n",
       " ('regulador', 'aq0000'),\n",
       " ('de', 'sp000'),\n",
       " ('las', 'da0000'),\n",
       " ('Telecomunicaciones', 'np00000'),\n",
       " ('se', 'p0000000'),\n",
       " ('mostró', 'vmis000')]"
      ]
     },
     "execution_count": 48,
     "metadata": {},
     "output_type": "execute_result"
    }
   ],
   "source": [
    "sent = sents[0]\n",
    "words, tags = zip(*sent)  # separar las palabras de los tags\n",
    "sent[:10]"
   ]
  },
  {
   "cell_type": "code",
   "execution_count": 49,
   "metadata": {},
   "outputs": [
    {
     "data": {
      "text/plain": [
       "['da0000',\n",
       " 'nc0s000',\n",
       " 'sp000',\n",
       " 'nc0s000',\n",
       " 'aq0000',\n",
       " 'sp000',\n",
       " 'da0000',\n",
       " 'nc0s000',\n",
       " 'p0000000',\n",
       " 'vmis000']"
      ]
     },
     "execution_count": 49,
     "metadata": {},
     "output_type": "execute_result"
    }
   ],
   "source": [
    "model.tag(words[:10])"
   ]
  },
  {
   "cell_type": "code",
   "execution_count": 50,
   "metadata": {},
   "outputs": [
    {
     "data": {
      "text/plain": [
       "True"
      ]
     },
     "execution_count": 50,
     "metadata": {},
     "output_type": "execute_result"
    }
   ],
   "source": [
    "model.unknown('Telecomunicaciones')"
   ]
  },
  {
   "cell_type": "markdown",
   "metadata": {},
   "source": [
    "Es claro que el tagger se puede mejorar para palabras desconocidas mirando características como el uso de mayúsculas y también de caracteres no estándar del inglés (e.g. letras acentuadas)."
   ]
  }
 ],
 "metadata": {
  "kernelspec": {
   "display_name": "Python 3",
   "language": "python",
   "name": "python3"
  },
  "language_info": {
   "codemirror_mode": {
    "name": "ipython",
    "version": 3
   },
   "file_extension": ".py",
   "mimetype": "text/x-python",
   "name": "python",
   "nbconvert_exporter": "python",
   "pygments_lexer": "ipython3",
   "version": "3.7.3"
  }
 },
 "nbformat": 4,
 "nbformat_minor": 4
}
